{
 "cells": [
  {
   "cell_type": "code",
   "execution_count": 1,
   "id": "4519c97e-5a3b-4040-8b21-9b5209712cb2",
   "metadata": {},
   "outputs": [],
   "source": [
    "# Notebook: 02_build_aapl_ood_base.ipynb\n",
    "\n",
    "import pandas as pd, numpy as np, json\n",
    "from pathlib import Path\n",
    "\n",
    "# Folders\n",
    "ROOT   = Path(\"..\")\n",
    "TRAIND = ROOT / \"train\"            # where your train stats live (macro_zscore_stats.json)\n",
    "OODD   = ROOT / \"test\"    # where we'll save AAPL OOD outputs\n",
    "ROOT.mkdir(parents=True, exist_ok=True); OODD.mkdir(parents=True, exist_ok=True)\n",
    "\n",
    "# Input: your AAPL base CSV (no macros yet), produced in Step 1 earlier\n",
    "BASE_AAPL_CSV = OODD / \"base_AAPL_2024.csv\"\n",
    "\n",
    "# Helper: business-day index\n",
    "def bdays(start, end):\n",
    "    return pd.bdate_range(start=start, end=end)\n",
    "\n"
   ]
  },
  {
   "cell_type": "code",
   "execution_count": 2,
   "id": "8852f4ce-83cf-4c7a-b38e-0be29ec7b5fe",
   "metadata": {},
   "outputs": [
    {
     "name": "stdout",
     "output_type": "stream",
     "text": [
      "AAPL base rows: 229\n",
      "Date range: 2024-01-09 → 2024-12-11\n"
     ]
    }
   ],
   "source": [
    "base = pd.read_csv(BASE_AAPL_CSV, parse_dates=[\"Date\"]).sort_values(\"Date\")\n",
    "\n",
    "# Parse JSON embedding -> numpy array\n",
    "def parse_emb(s): return np.array(json.loads(s), dtype=np.float32)\n",
    "base[\"text_embed\"] = base[\"prev_day_embedding_json\"].apply(parse_emb)\n",
    "base.drop(columns=[\"prev_day_embedding_json\"], inplace=True)\n",
    "\n",
    "# Drop any rows with zero-norm embedding (usually the first)\n",
    "def vnorm(a): return float(np.linalg.norm(a))\n",
    "zero_mask = base[\"text_embed\"].apply(vnorm).eq(0.0)\n",
    "if zero_mask.any():\n",
    "    print(\"Dropping zero-embedding rows:\", int(zero_mask.sum()))\n",
    "    base = base.loc[~zero_mask].copy()\n",
    "\n",
    "print(\"AAPL base rows:\", len(base))\n",
    "print(\"Date range:\", base[\"Date\"].min().date(), \"→\", base[\"Date\"].max().date())\n"
   ]
  },
  {
   "cell_type": "code",
   "execution_count": 3,
   "id": "e57bc3ac-310f-4054-b0a7-e8d1ff8f28af",
   "metadata": {},
   "outputs": [
    {
     "name": "stdout",
     "output_type": "stream",
     "text": [
      "Fetch macro: 2022-01-09 → 2024-12-11\n"
     ]
    }
   ],
   "source": [
    "OOD_START = base[\"Date\"].min().normalize()\n",
    "OOD_END   = base[\"Date\"].max().normalize()\n",
    "\n",
    "# Buffer for CPI YoY and publication lags\n",
    "# After (more cushion: 18 months is safe for quarterly + lag)\n",
    "macro_fetch_start = (OOD_START - pd.DateOffset(months=24)).normalize()\n",
    "macro_fetch_end   = OOD_END\n",
    "\n",
    "print(\"Fetch macro:\", macro_fetch_start.date(), \"→\", macro_fetch_end.date())\n"
   ]
  },
  {
   "cell_type": "code",
   "execution_count": 4,
   "id": "3e635f7e-c1e3-4858-ab26-91ece277aaf4",
   "metadata": {},
   "outputs": [
    {
     "name": "stdout",
     "output_type": "stream",
     "text": [
      "Fetched: 36 36 763 12\n"
     ]
    }
   ],
   "source": [
    "from fredapi import Fred\n",
    "fred = Fred(api_key=\"ae61356225c8e8de915564116aa0c9f3\")  # <-- same as your notebook\n",
    "\n",
    "# CPI (monthly) → YoY %\n",
    "cpi = fred.get_series('CPIAUCSL', observation_start=macro_fetch_start, observation_end=macro_fetch_end)\n",
    "cpi = cpi.to_frame(\"cpi\").reset_index().rename(columns={\"index\":\"Date\"})\n",
    "cpi[\"cpi_yoy\"] = cpi[\"cpi\"].pct_change(12) * 100\n",
    "\n",
    "# Unemployment (monthly, %)\n",
    "unrate = fred.get_series('UNRATE', observation_start=macro_fetch_start, observation_end=macro_fetch_end)\n",
    "unrate = unrate.to_frame(\"unrate\").reset_index().rename(columns={\"index\":\"Date\"})\n",
    "\n",
    "# 10Y-2Y spread (daily, pp)\n",
    "t10y2y = fred.get_series('T10Y2Y', observation_start=macro_fetch_start, observation_end=macro_fetch_end)\n",
    "t10y2y = t10y2y.to_frame(\"t10y2y\").reset_index().rename(columns={\"index\":\"Date\"})\n",
    "\n",
    "# Real GDP (quarterly) → QoQ %\n",
    "gdp = fred.get_series('GDPC1', observation_start=macro_fetch_start, observation_end=macro_fetch_end)\n",
    "gdp = gdp.to_frame(\"gdp\").reset_index().rename(columns={\"index\":\"Date\"})\n",
    "gdp[\"gdp_qoq\"] = gdp[\"gdp\"].pct_change() * 100\n",
    "\n",
    "print(\"Fetched:\", len(cpi), len(unrate), len(t10y2y), len(gdp))\n"
   ]
  },
  {
   "cell_type": "code",
   "execution_count": 5,
   "id": "c9eb460d-818b-4d48-927b-706993e5ef3d",
   "metadata": {},
   "outputs": [
    {
     "name": "stdout",
     "output_type": "stream",
     "text": [
      "Macro OOD rows: 242\n"
     ]
    }
   ],
   "source": [
    "# Merge sparse macro series\n",
    "macro = (cpi[[\"Date\",\"cpi_yoy\"]]\n",
    "         .merge(unrate[[\"Date\",\"unrate\"]], on=\"Date\", how=\"outer\")\n",
    "         .merge(t10y2y[[\"Date\",\"t10y2y\"]], on=\"Date\", how=\"outer\")\n",
    "         .merge(gdp[[\"Date\",\"gdp_qoq\"]], on=\"Date\", how=\"outer\")\n",
    "        ).sort_values(\"Date\")\n",
    "\n",
    "# Business-day reindex on wide window + ffill\n",
    "wide_idx = bdays(macro_fetch_start, macro_fetch_end)\n",
    "macro_w = (macro.set_index(\"Date\").reindex(wide_idx).rename_axis(\"Date\").ffill())\n",
    "\n",
    "# Publication lags (strict causality)\n",
    "macro_w[\"cpi_yoy_lagged\"] = macro_w[\"cpi_yoy\"].shift(10)  # CPI +10d\n",
    "macro_w[\"unrate_lagged\"]  = macro_w[\"unrate\"].shift(5)    # UNRATE +5d\n",
    "macro_w[\"t10y2y_lagged\"]  = macro_w[\"t10y2y\"]             # 0d\n",
    "macro_w[\"gdp_qoq_lagged\"] = macro_w[\"gdp_qoq\"].shift(30)  # GDP +30d\n",
    "\n",
    "macro_w = macro_w.ffill().reset_index()\n",
    "\n",
    "# Trim to OOD\n",
    "macro_ood = macro_w[(macro_w[\"Date\"] >= OOD_START) & (macro_w[\"Date\"] <= OOD_END)].copy()\n",
    "print(\"Macro OOD rows:\", len(macro_ood))\n"
   ]
  },
  {
   "cell_type": "code",
   "execution_count": 6,
   "id": "9c4f01e1-71ce-4eb0-b468-7b500d9dabbc",
   "metadata": {},
   "outputs": [
    {
     "name": "stdout",
     "output_type": "stream",
     "text": [
      "NaNs in z-cols:\n",
      " Date                0\n",
      "cpi_yoy_lagged_z    0\n",
      "unrate_lagged_z     0\n",
      "t10y2y_lagged_z     0\n",
      "gdp_qoq_lagged_z    0\n",
      "dtype: int64\n"
     ]
    }
   ],
   "source": [
    "# Load TRAIN z-score stats (μ, σ)\n",
    "stats = json.load(open(TRAIND / \"macro_zscore_stats.json\"))\n",
    "mu, sd = stats[\"mu\"], stats[\"sd\"]\n",
    "lag_cols = [\"cpi_yoy_lagged\",\"unrate_lagged\",\"t10y2y_lagged\",\"gdp_qoq_lagged\"]\n",
    "\n",
    "# Apply train μ/σ to OOD\n",
    "for c in lag_cols:\n",
    "    macro_ood[c + \"_z\"] = (macro_ood[c] - mu[c]) / (sd[c] if sd[c] != 0 else 1.0)\n",
    "\n",
    "# Forward-fill z-scores to cover quarterly gaps\n",
    "for zc in [c+\"_z\" for c in lag_cols]:\n",
    "    macro_ood[zc] = macro_ood[zc].ffill()\n",
    "\n",
    "macro_daily = macro_ood[[\"Date\"] + [c+\"_z\" for c in lag_cols]]\n",
    "print(\"NaNs in z-cols:\\n\", macro_daily.isna().sum())\n"
   ]
  },
  {
   "cell_type": "code",
   "execution_count": 7,
   "id": "c57b322a-3195-4739-8d2b-5a8003e09940",
   "metadata": {},
   "outputs": [
    {
     "name": "stdout",
     "output_type": "stream",
     "text": [
      "Saved: ../test/x_test_ood_base.parquet\n",
      "Rows: 229\n",
      "Columns: ['Date', 'Movement', 'Open', 'Close_lag1', 'High_lag1', 'Volume_lag1', 'Daily_Return_lag1', 'Volatility_lag1', 'sentiment_volatility_lag1', 'aggregate_sentiment_score_lag1', 'text_embed', 'cpi_yoy_lagged_z', 'unrate_lagged_z', 't10y2y_lagged_z', 'gdp_qoq_lagged_z']\n",
      "\n",
      "Sanity:\n",
      "  Dates sorted: True \n",
      "  Movement unique: [0, 1]\n"
     ]
    }
   ],
   "source": [
    "ood = base.merge(macro_daily, on=\"Date\", how=\"left\").sort_values(\"Date\")\n",
    "ood[\"text_embed\"] = ood[\"text_embed\"].apply(lambda a: a.tolist())\n",
    "\n",
    "out_path = OODD / \"x_test_ood_base.parquet\"\n",
    "ood.to_parquet(out_path, index=False)\n",
    "\n",
    "print(\"Saved:\", out_path)\n",
    "print(\"Rows:\", len(ood))\n",
    "print(\"Columns:\", list(ood.columns))\n",
    "print(\"\\nSanity:\\n  Dates sorted:\", ood[\"Date\"].is_monotonic_increasing,\n",
    "      \"\\n  Movement unique:\", sorted(ood[\"Movement\"].unique()))\n"
   ]
  },
  {
   "cell_type": "code",
   "execution_count": null,
   "id": "207681ed-f235-4b4b-b80f-e09fdc0e2b45",
   "metadata": {},
   "outputs": [],
   "source": []
  }
 ],
 "metadata": {
  "kernelspec": {
   "display_name": "Python 3 (ipykernel)",
   "language": "python",
   "name": "python3"
  },
  "language_info": {
   "codemirror_mode": {
    "name": "ipython",
    "version": 3
   },
   "file_extension": ".py",
   "mimetype": "text/x-python",
   "name": "python",
   "nbconvert_exporter": "python",
   "pygments_lexer": "ipython3",
   "version": "3.9.18"
  }
 },
 "nbformat": 4,
 "nbformat_minor": 5
}
