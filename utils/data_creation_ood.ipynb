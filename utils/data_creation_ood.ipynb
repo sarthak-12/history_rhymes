{
 "cells": [
  {
   "cell_type": "markdown",
   "id": "e6a6a44f-921c-4ec5-b57f-321cac242c0f",
   "metadata": {},
   "source": [
    "# Relevant Imports"
   ]
  },
  {
   "cell_type": "code",
   "execution_count": 1,
   "id": "89db36dd-b199-4e1f-9e32-d19c78f18c92",
   "metadata": {},
   "outputs": [],
   "source": [
    "# Cell 1: Relevant Imports\n",
    "import pandas as pd\n",
    "import numpy as np\n",
    "from datetime import datetime\n"
   ]
  },
  {
   "cell_type": "markdown",
   "id": "f9e53b1c-2aae-44bd-a67c-48a6acef140a",
   "metadata": {},
   "source": [
    "# Preprocessing"
   ]
  },
  {
   "cell_type": "code",
   "execution_count": 2,
   "id": "75564b08-c77b-4f6d-8f12-1c0dd226fbb6",
   "metadata": {},
   "outputs": [
    {
     "data": {
      "text/html": [
       "<div>\n",
       "<style scoped>\n",
       "    .dataframe tbody tr th:only-of-type {\n",
       "        vertical-align: middle;\n",
       "    }\n",
       "\n",
       "    .dataframe tbody tr th {\n",
       "        vertical-align: top;\n",
       "    }\n",
       "\n",
       "    .dataframe thead th {\n",
       "        text-align: right;\n",
       "    }\n",
       "</style>\n",
       "<table border=\"1\" class=\"dataframe\">\n",
       "  <thead>\n",
       "    <tr style=\"text-align: right;\">\n",
       "      <th></th>\n",
       "      <th>time_published</th>\n",
       "      <th>title</th>\n",
       "      <th>summary</th>\n",
       "    </tr>\n",
       "  </thead>\n",
       "  <tbody>\n",
       "    <tr>\n",
       "      <th>0</th>\n",
       "      <td>2024-01-06 14:12:42</td>\n",
       "      <td>Barron's Weekend Stock Picks: Abercrombie &amp; Fi...</td>\n",
       "      <td>Benzinga reviews this weekend's top stories co...</td>\n",
       "    </tr>\n",
       "    <tr>\n",
       "      <th>1</th>\n",
       "      <td>2024-01-06 15:04:00</td>\n",
       "      <td>What That Famous Investing Quote About Bulls, ...</td>\n",
       "      <td>Motley Fool co-founder David Gardner responds ...</td>\n",
       "    </tr>\n",
       "    <tr>\n",
       "      <th>2</th>\n",
       "      <td>2024-01-07 11:01:10</td>\n",
       "      <td>Apple's Busy Week: Tech Standoff, Legal Battle...</td>\n",
       "      <td>It was an eventful week for Apple Inc. AAPL, w...</td>\n",
       "    </tr>\n",
       "    <tr>\n",
       "      <th>3</th>\n",
       "      <td>2024-01-07 11:45:00</td>\n",
       "      <td>Stocks Decline And Fed Rate Cuts Imperiled To ...</td>\n",
       "      <td>After stellar gains of 107% in 2023, the Magni...</td>\n",
       "    </tr>\n",
       "    <tr>\n",
       "      <th>4</th>\n",
       "      <td>2024-01-07 12:45:00</td>\n",
       "      <td>The Last Time Apple Spent This Much Money, It ...</td>\n",
       "      <td>Spending on research and development has nearl...</td>\n",
       "    </tr>\n",
       "  </tbody>\n",
       "</table>\n",
       "</div>"
      ],
      "text/plain": [
       "        time_published                                              title  \\\n",
       "0  2024-01-06 14:12:42  Barron's Weekend Stock Picks: Abercrombie & Fi...   \n",
       "1  2024-01-06 15:04:00  What That Famous Investing Quote About Bulls, ...   \n",
       "2  2024-01-07 11:01:10  Apple's Busy Week: Tech Standoff, Legal Battle...   \n",
       "3  2024-01-07 11:45:00  Stocks Decline And Fed Rate Cuts Imperiled To ...   \n",
       "4  2024-01-07 12:45:00  The Last Time Apple Spent This Much Money, It ...   \n",
       "\n",
       "                                             summary  \n",
       "0  Benzinga reviews this weekend's top stories co...  \n",
       "1  Motley Fool co-founder David Gardner responds ...  \n",
       "2  It was an eventful week for Apple Inc. AAPL, w...  \n",
       "3  After stellar gains of 107% in 2023, the Magni...  \n",
       "4  Spending on research and development has nearl...  "
      ]
     },
     "execution_count": 2,
     "metadata": {},
     "output_type": "execute_result"
    }
   ],
   "source": [
    "# Cell 2: Load the CSV file\n",
    "# Assuming the file is named 'sp500_news_simple_2024_AAPL.csv' and is in the current directory\n",
    "df = pd.read_csv('sp500_news_simple_2024_AAPL.csv')\n",
    "# Display the first few rows to inspect the data\n",
    "df.head()\n"
   ]
  },
  {
   "cell_type": "code",
   "execution_count": 3,
   "id": "5d75758b-c04d-4a00-af5d-f61469a2c803",
   "metadata": {},
   "outputs": [
    {
     "data": {
      "text/html": [
       "<div>\n",
       "<style scoped>\n",
       "    .dataframe tbody tr th:only-of-type {\n",
       "        vertical-align: middle;\n",
       "    }\n",
       "\n",
       "    .dataframe tbody tr th {\n",
       "        vertical-align: top;\n",
       "    }\n",
       "\n",
       "    .dataframe thead th {\n",
       "        text-align: right;\n",
       "    }\n",
       "</style>\n",
       "<table border=\"1\" class=\"dataframe\">\n",
       "  <thead>\n",
       "    <tr style=\"text-align: right;\">\n",
       "      <th></th>\n",
       "      <th>time_published</th>\n",
       "      <th>title</th>\n",
       "      <th>summary</th>\n",
       "      <th>date</th>\n",
       "    </tr>\n",
       "  </thead>\n",
       "  <tbody>\n",
       "    <tr>\n",
       "      <th>0</th>\n",
       "      <td>2024-01-06 14:12:42</td>\n",
       "      <td>Barron's Weekend Stock Picks: Abercrombie &amp; Fi...</td>\n",
       "      <td>Benzinga reviews this weekend's top stories co...</td>\n",
       "      <td>06/01/2024</td>\n",
       "    </tr>\n",
       "    <tr>\n",
       "      <th>1</th>\n",
       "      <td>2024-01-06 15:04:00</td>\n",
       "      <td>What That Famous Investing Quote About Bulls, ...</td>\n",
       "      <td>Motley Fool co-founder David Gardner responds ...</td>\n",
       "      <td>06/01/2024</td>\n",
       "    </tr>\n",
       "    <tr>\n",
       "      <th>2</th>\n",
       "      <td>2024-01-07 11:01:10</td>\n",
       "      <td>Apple's Busy Week: Tech Standoff, Legal Battle...</td>\n",
       "      <td>It was an eventful week for Apple Inc. AAPL, w...</td>\n",
       "      <td>07/01/2024</td>\n",
       "    </tr>\n",
       "    <tr>\n",
       "      <th>3</th>\n",
       "      <td>2024-01-07 11:45:00</td>\n",
       "      <td>Stocks Decline And Fed Rate Cuts Imperiled To ...</td>\n",
       "      <td>After stellar gains of 107% in 2023, the Magni...</td>\n",
       "      <td>07/01/2024</td>\n",
       "    </tr>\n",
       "    <tr>\n",
       "      <th>4</th>\n",
       "      <td>2024-01-07 12:45:00</td>\n",
       "      <td>The Last Time Apple Spent This Much Money, It ...</td>\n",
       "      <td>Spending on research and development has nearl...</td>\n",
       "      <td>07/01/2024</td>\n",
       "    </tr>\n",
       "  </tbody>\n",
       "</table>\n",
       "</div>"
      ],
      "text/plain": [
       "       time_published                                              title  \\\n",
       "0 2024-01-06 14:12:42  Barron's Weekend Stock Picks: Abercrombie & Fi...   \n",
       "1 2024-01-06 15:04:00  What That Famous Investing Quote About Bulls, ...   \n",
       "2 2024-01-07 11:01:10  Apple's Busy Week: Tech Standoff, Legal Battle...   \n",
       "3 2024-01-07 11:45:00  Stocks Decline And Fed Rate Cuts Imperiled To ...   \n",
       "4 2024-01-07 12:45:00  The Last Time Apple Spent This Much Money, It ...   \n",
       "\n",
       "                                             summary        date  \n",
       "0  Benzinga reviews this weekend's top stories co...  06/01/2024  \n",
       "1  Motley Fool co-founder David Gardner responds ...  06/01/2024  \n",
       "2  It was an eventful week for Apple Inc. AAPL, w...  07/01/2024  \n",
       "3  After stellar gains of 107% in 2023, the Magni...  07/01/2024  \n",
       "4  Spending on research and development has nearl...  07/01/2024  "
      ]
     },
     "execution_count": 3,
     "metadata": {},
     "output_type": "execute_result"
    }
   ],
   "source": [
    "# Cell 3: Extract date from 'time_published' column without timestamp\n",
    "# Convert 'time_published' to datetime format\n",
    "df['time_published'] = pd.to_datetime(df['time_published'])\n",
    "# Extract date in DD/MM/YYYY format\n",
    "df['date'] = df['time_published'].dt.strftime('%d/%m/%Y')\n",
    "# Display the updated DataFrame\n",
    "df.head()\n"
   ]
  },
  {
   "cell_type": "code",
   "execution_count": 4,
   "id": "1b9c494d-838a-4d8a-87b9-3a5c1b6ac153",
   "metadata": {},
   "outputs": [
    {
     "data": {
      "text/html": [
       "<div>\n",
       "<style scoped>\n",
       "    .dataframe tbody tr th:only-of-type {\n",
       "        vertical-align: middle;\n",
       "    }\n",
       "\n",
       "    .dataframe tbody tr th {\n",
       "        vertical-align: top;\n",
       "    }\n",
       "\n",
       "    .dataframe thead th {\n",
       "        text-align: right;\n",
       "    }\n",
       "</style>\n",
       "<table border=\"1\" class=\"dataframe\">\n",
       "  <thead>\n",
       "    <tr style=\"text-align: right;\">\n",
       "      <th></th>\n",
       "      <th>date</th>\n",
       "      <th>title</th>\n",
       "      <th>content</th>\n",
       "    </tr>\n",
       "  </thead>\n",
       "  <tbody>\n",
       "    <tr>\n",
       "      <th>0</th>\n",
       "      <td>06/01/2024</td>\n",
       "      <td>Barron's Weekend Stock Picks: Abercrombie &amp; Fi...</td>\n",
       "      <td>Benzinga reviews this weekend's top stories co...</td>\n",
       "    </tr>\n",
       "    <tr>\n",
       "      <th>1</th>\n",
       "      <td>06/01/2024</td>\n",
       "      <td>What That Famous Investing Quote About Bulls, ...</td>\n",
       "      <td>Motley Fool co-founder David Gardner responds ...</td>\n",
       "    </tr>\n",
       "    <tr>\n",
       "      <th>2</th>\n",
       "      <td>07/01/2024</td>\n",
       "      <td>Apple's Busy Week: Tech Standoff, Legal Battle...</td>\n",
       "      <td>It was an eventful week for Apple Inc. AAPL, w...</td>\n",
       "    </tr>\n",
       "    <tr>\n",
       "      <th>3</th>\n",
       "      <td>07/01/2024</td>\n",
       "      <td>Stocks Decline And Fed Rate Cuts Imperiled To ...</td>\n",
       "      <td>After stellar gains of 107% in 2023, the Magni...</td>\n",
       "    </tr>\n",
       "    <tr>\n",
       "      <th>4</th>\n",
       "      <td>07/01/2024</td>\n",
       "      <td>The Last Time Apple Spent This Much Money, It ...</td>\n",
       "      <td>Spending on research and development has nearl...</td>\n",
       "    </tr>\n",
       "  </tbody>\n",
       "</table>\n",
       "</div>"
      ],
      "text/plain": [
       "         date                                              title  \\\n",
       "0  06/01/2024  Barron's Weekend Stock Picks: Abercrombie & Fi...   \n",
       "1  06/01/2024  What That Famous Investing Quote About Bulls, ...   \n",
       "2  07/01/2024  Apple's Busy Week: Tech Standoff, Legal Battle...   \n",
       "3  07/01/2024  Stocks Decline And Fed Rate Cuts Imperiled To ...   \n",
       "4  07/01/2024  The Last Time Apple Spent This Much Money, It ...   \n",
       "\n",
       "                                             content  \n",
       "0  Benzinga reviews this weekend's top stories co...  \n",
       "1  Motley Fool co-founder David Gardner responds ...  \n",
       "2  It was an eventful week for Apple Inc. AAPL, w...  \n",
       "3  After stellar gains of 107% in 2023, the Magni...  \n",
       "4  Spending on research and development has nearl...  "
      ]
     },
     "execution_count": 4,
     "metadata": {},
     "output_type": "execute_result"
    }
   ],
   "source": [
    "# Cell 4: Select only the required columns: date, title, and summary (assuming 'summary' is the content)\n",
    "# Rename 'summary' to 'content' if needed for clarity\n",
    "df_cleaned = df[['date', 'title', 'summary']].rename(columns={'summary': 'content'})\n",
    "# Display the cleaned DataFrame\n",
    "df_cleaned.head()\n"
   ]
  },
  {
   "cell_type": "code",
   "execution_count": 5,
   "id": "c7d0eda4-baa3-416d-b2d6-9082c26393aa",
   "metadata": {},
   "outputs": [
    {
     "name": "stdout",
     "output_type": "stream",
     "text": [
      "<class 'pandas.core.frame.DataFrame'>\n",
      "Index: 6977 entries, 0 to 7005\n",
      "Data columns (total 3 columns):\n",
      " #   Column   Non-Null Count  Dtype \n",
      "---  ------   --------------  ----- \n",
      " 0   date     6977 non-null   object\n",
      " 1   title    6977 non-null   object\n",
      " 2   content  6977 non-null   object\n",
      "dtypes: object(3)\n",
      "memory usage: 218.0+ KB\n"
     ]
    }
   ],
   "source": [
    "# Cell 5: Optional - Handle any missing values or duplicates if necessary\n",
    "# Drop rows with missing values (if any)\n",
    "df_cleaned = df_cleaned.dropna()\n",
    "# Remove duplicates (if any)\n",
    "df_cleaned = df_cleaned.drop_duplicates()\n",
    "# Display info about the cleaned DataFrame\n",
    "df_cleaned.info()\n"
   ]
  },
  {
   "cell_type": "code",
   "execution_count": 6,
   "id": "3df73be5-4c8c-4953-b1a8-205842f0bc85",
   "metadata": {},
   "outputs": [
    {
     "name": "stdout",
     "output_type": "stream",
     "text": [
      "Cleaned data saved to cleaned_sp500_news_2024_AAPL.csv\n"
     ]
    }
   ],
   "source": [
    "# Cell 6: Save the cleaned data to a new CSV file\n",
    "output_filename = 'cleaned_sp500_news_2024_AAPL.csv'\n",
    "df_cleaned.to_csv(output_filename, index=False)\n",
    "print(f\"Cleaned data saved to {output_filename}\")\n"
   ]
  },
  {
   "cell_type": "code",
   "execution_count": null,
   "id": "b1c6df5b-7ea7-48e7-a916-a792fed7703e",
   "metadata": {},
   "outputs": [],
   "source": []
  }
 ],
 "metadata": {
  "kernelspec": {
   "display_name": "Python 3 (ipykernel)",
   "language": "python",
   "name": "python3"
  },
  "language_info": {
   "codemirror_mode": {
    "name": "ipython",
    "version": 3
   },
   "file_extension": ".py",
   "mimetype": "text/x-python",
   "name": "python",
   "nbconvert_exporter": "python",
   "pygments_lexer": "ipython3",
   "version": "3.9.18"
  }
 },
 "nbformat": 4,
 "nbformat_minor": 5
}
