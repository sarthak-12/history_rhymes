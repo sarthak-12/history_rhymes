{
 "cells": [
  {
   "cell_type": "markdown",
   "id": "a6ee00b8-78bc-4a32-9281-3598c2559996",
   "metadata": {},
   "source": [
    "# Relevant Imports"
   ]
  },
  {
   "cell_type": "code",
   "execution_count": 1,
   "id": "bdbb0643-a286-4189-8e94-b8fb04397984",
   "metadata": {},
   "outputs": [
    {
     "data": {
      "text/plain": [
       "True"
      ]
     },
     "execution_count": 1,
     "metadata": {},
     "output_type": "execute_result"
    }
   ],
   "source": [
    "# Cell 1: Relevant Imports\n",
    "# We need the same imports as in the RoBERTa_base.ipynb for sentiment annotation\n",
    "import pandas as pd\n",
    "import numpy as np\n",
    "import torch\n",
    "import re\n",
    "import nltk\n",
    "from nltk.corpus import stopwords\n",
    "from transformers import AutoTokenizer, AutoModelForSequenceClassification, TextClassificationPipeline\n",
    "nltk.download('stopwords', quiet=True)  # Ensure stopwords are downloaded\n"
   ]
  },
  {
   "cell_type": "code",
   "execution_count": 2,
   "id": "855c5426-1dc2-4068-87ee-2c126bc3bdb0",
   "metadata": {},
   "outputs": [],
   "source": [
    "# Cell 2: Define the SentimentAnnotator Class\n",
    "# This is directly from the RoBERTa_base.ipynb - no changes needed\n",
    "class SentimentAnnotator:\n",
    "    def __init__(self, model_name='cardiffnlp/twitter-roberta-base-sentiment-latest'):\n",
    "        \"\"\"\n",
    "        Initializes the SentimentAnnotator with the specified model.\n",
    "        Utilizes Apple's MPS backend if available.\n",
    "        \"\"\"\n",
    "        self.device = self._get_device()\n",
    "        self.tokenizer = AutoTokenizer.from_pretrained(model_name)\n",
    "        self.model = AutoModelForSequenceClassification.from_pretrained(model_name)\n",
    "        self.model.to(self.device)\n",
    "        self.pipeline = TextClassificationPipeline(\n",
    "            model=self.model,\n",
    "            tokenizer=self.tokenizer,\n",
    "            device=self.device.index if self.device.type != 'cpu' else -1,\n",
    "            top_k=None,  # Return scores for all labels\n",
    "            batch_size=32\n",
    "        )\n",
    "\n",
    "    def _get_device(self):\n",
    "        \"\"\"\n",
    "        Determines the appropriate device to use (MPS if available, else CPU).\n",
    "        \"\"\"\n",
    "        if torch.backends.mps.is_available():\n",
    "            device = torch.device('mps')\n",
    "            print(\"Using Apple's MPS backend.\")\n",
    "        else:\n",
    "            device = torch.device('cpu')\n",
    "            print(\"MPS backend not available. Using CPU.\")\n",
    "        return device\n",
    "\n",
    "    def preprocess_text(self, text):\n",
    "        \"\"\"\n",
    "        Preprocesses the input text by cleaning and normalizing it.\n",
    "        \"\"\"\n",
    "        # Convert to string and strip leading/trailing whitespace\n",
    "        text = str(text).strip()\n",
    "        \n",
    "        # Handle missing or empty text\n",
    "        if not text:\n",
    "            return ''\n",
    "        \n",
    "        # Convert to lowercase\n",
    "        text = text.lower()\n",
    "        \n",
    "        # Remove punctuation\n",
    "        text = re.sub(r'[^\\w\\s]', '', text)\n",
    "        \n",
    "        # Remove extra whitespace\n",
    "        text = ' '.join(text.split())\n",
    "        \n",
    "        # Remove stop words\n",
    "        stop_words = set(stopwords.words('english'))\n",
    "        text = ' '.join([word for word in text.split() if word not in stop_words])\n",
    "        \n",
    "        return text\n",
    "\n",
    "    def annotate(self, texts):\n",
    "        \"\"\"\n",
    "        Annotates a list of texts with sentiment scores.\n",
    "        \"\"\"\n",
    "        # Preprocess texts\n",
    "        preprocessed_texts = [self.preprocess_text(text) for text in texts]\n",
    "        \n",
    "        # Run the pipeline\n",
    "        annotations = self.pipeline(preprocessed_texts)\n",
    "        return annotations\n",
    "\n",
    "    def annotate_dataframe(self, df, text_column, output_column='sentiment_score'):\n",
    "        texts = df[text_column].tolist()\n",
    "        annotations = self.annotate(texts)\n",
    "        \n",
    "        # Extract sentiment scores\n",
    "        scores = []\n",
    "        for annotation in annotations:\n",
    "            # Convert list of dicts to a dict for easier access\n",
    "            score_dict = {item['label']: item['score'] for item in annotation}\n",
    "            \n",
    "            # Correct label mapping for Twitter RoBERTa model\n",
    "            negative_score = score_dict.get('negative', 0)  # 'negative' label for negative sentiment\n",
    "            neutral_score = score_dict.get('neutral', 0)    # 'neutral' label for neutral sentiment\n",
    "            positive_score = score_dict.get('positive', 0)  # 'positive' label for positive sentiment\n",
    "            \n",
    "            # Calculate sentiment score considering neutral values\n",
    "            sentiment_score = (positive_score - negative_score) * (1 - neutral_score)\n",
    "            \n",
    "            # Format the score to two decimal places without rounding\n",
    "            # If sentiment_score is close to zero, set it explicitly to \"0.00\" to avoid \"-0.00\"\n",
    "            if abs(sentiment_score) < 0.005:\n",
    "                formatted_score = \"0.00\"\n",
    "            else:\n",
    "                formatted_score = f\"{sentiment_score:.2f}\"\n",
    "            \n",
    "            scores.append(formatted_score)\n",
    "        \n",
    "        # Add the formatted sentiment scores to the DataFrame\n",
    "        df[output_column] = scores\n",
    "        return df\n"
   ]
  },
  {
   "cell_type": "code",
   "execution_count": 3,
   "id": "8dbd94cf-0764-4be3-8bdf-2c9c7e5c6d99",
   "metadata": {},
   "outputs": [
    {
     "data": {
      "text/html": [
       "<div>\n",
       "<style scoped>\n",
       "    .dataframe tbody tr th:only-of-type {\n",
       "        vertical-align: middle;\n",
       "    }\n",
       "\n",
       "    .dataframe tbody tr th {\n",
       "        vertical-align: top;\n",
       "    }\n",
       "\n",
       "    .dataframe thead th {\n",
       "        text-align: right;\n",
       "    }\n",
       "</style>\n",
       "<table border=\"1\" class=\"dataframe\">\n",
       "  <thead>\n",
       "    <tr style=\"text-align: right;\">\n",
       "      <th></th>\n",
       "      <th>date</th>\n",
       "      <th>title</th>\n",
       "      <th>content</th>\n",
       "    </tr>\n",
       "  </thead>\n",
       "  <tbody>\n",
       "    <tr>\n",
       "      <th>0</th>\n",
       "      <td>06/01/2024</td>\n",
       "      <td>Barron's Weekend Stock Picks: Abercrombie &amp; Fi...</td>\n",
       "      <td>Benzinga reviews this weekend's top stories co...</td>\n",
       "    </tr>\n",
       "    <tr>\n",
       "      <th>1</th>\n",
       "      <td>06/01/2024</td>\n",
       "      <td>What That Famous Investing Quote About Bulls, ...</td>\n",
       "      <td>Motley Fool co-founder David Gardner responds ...</td>\n",
       "    </tr>\n",
       "    <tr>\n",
       "      <th>2</th>\n",
       "      <td>07/01/2024</td>\n",
       "      <td>Apple's Busy Week: Tech Standoff, Legal Battle...</td>\n",
       "      <td>It was an eventful week for Apple Inc. AAPL, w...</td>\n",
       "    </tr>\n",
       "    <tr>\n",
       "      <th>3</th>\n",
       "      <td>07/01/2024</td>\n",
       "      <td>Stocks Decline And Fed Rate Cuts Imperiled To ...</td>\n",
       "      <td>After stellar gains of 107% in 2023, the Magni...</td>\n",
       "    </tr>\n",
       "    <tr>\n",
       "      <th>4</th>\n",
       "      <td>07/01/2024</td>\n",
       "      <td>The Last Time Apple Spent This Much Money, It ...</td>\n",
       "      <td>Spending on research and development has nearl...</td>\n",
       "    </tr>\n",
       "  </tbody>\n",
       "</table>\n",
       "</div>"
      ],
      "text/plain": [
       "         date                                              title  \\\n",
       "0  06/01/2024  Barron's Weekend Stock Picks: Abercrombie & Fi...   \n",
       "1  06/01/2024  What That Famous Investing Quote About Bulls, ...   \n",
       "2  07/01/2024  Apple's Busy Week: Tech Standoff, Legal Battle...   \n",
       "3  07/01/2024  Stocks Decline And Fed Rate Cuts Imperiled To ...   \n",
       "4  07/01/2024  The Last Time Apple Spent This Much Money, It ...   \n",
       "\n",
       "                                             content  \n",
       "0  Benzinga reviews this weekend's top stories co...  \n",
       "1  Motley Fool co-founder David Gardner responds ...  \n",
       "2  It was an eventful week for Apple Inc. AAPL, w...  \n",
       "3  After stellar gains of 107% in 2023, the Magni...  \n",
       "4  Spending on research and development has nearl...  "
      ]
     },
     "execution_count": 3,
     "metadata": {},
     "output_type": "execute_result"
    }
   ],
   "source": [
    "# Cell 3: Load the Cleaned CSV File\n",
    "# Assuming the file is named 'cleaned_sp500_news_2024_AAPL.csv' and is in the current directory\n",
    "df = pd.read_csv('cleaned_sp500_news_2024_AAPL.csv')\n",
    "# Display the first few rows to inspect the data\n",
    "df.head()\n"
   ]
  },
  {
   "cell_type": "code",
   "execution_count": 4,
   "id": "5d991373-788b-4add-8267-196cfa77d5a8",
   "metadata": {},
   "outputs": [
    {
     "name": "stdout",
     "output_type": "stream",
     "text": [
      "Using Apple's MPS backend.\n"
     ]
    },
    {
     "name": "stderr",
     "output_type": "stream",
     "text": [
      "Some weights of the model checkpoint at cardiffnlp/twitter-roberta-base-sentiment-latest were not used when initializing RobertaForSequenceClassification: ['roberta.pooler.dense.bias', 'roberta.pooler.dense.weight']\n",
      "- This IS expected if you are initializing RobertaForSequenceClassification from the checkpoint of a model trained on another task or with another architecture (e.g. initializing a BertForSequenceClassification model from a BertForPreTraining model).\n",
      "- This IS NOT expected if you are initializing RobertaForSequenceClassification from the checkpoint of a model that you expect to be exactly identical (initializing a BertForSequenceClassification model from a BertForSequenceClassification model).\n",
      "Device set to use mps:0\n"
     ]
    },
    {
     "data": {
      "application/vnd.jupyter.widget-view+json": {
       "model_id": "78533d49f5f6463580f53f4f80d00558",
       "version_major": 2,
       "version_minor": 0
      },
      "text/plain": [
       "model.safetensors:   0%|          | 0.00/501M [00:00<?, ?B/s]"
      ]
     },
     "metadata": {},
     "output_type": "display_data"
    },
    {
     "data": {
      "text/html": [
       "<div>\n",
       "<style scoped>\n",
       "    .dataframe tbody tr th:only-of-type {\n",
       "        vertical-align: middle;\n",
       "    }\n",
       "\n",
       "    .dataframe tbody tr th {\n",
       "        vertical-align: top;\n",
       "    }\n",
       "\n",
       "    .dataframe thead th {\n",
       "        text-align: right;\n",
       "    }\n",
       "</style>\n",
       "<table border=\"1\" class=\"dataframe\">\n",
       "  <thead>\n",
       "    <tr style=\"text-align: right;\">\n",
       "      <th></th>\n",
       "      <th>date</th>\n",
       "      <th>title</th>\n",
       "      <th>content</th>\n",
       "      <th>sentiment_score</th>\n",
       "    </tr>\n",
       "  </thead>\n",
       "  <tbody>\n",
       "    <tr>\n",
       "      <th>0</th>\n",
       "      <td>06/01/2024</td>\n",
       "      <td>Barron's Weekend Stock Picks: Abercrombie &amp; Fi...</td>\n",
       "      <td>Benzinga reviews this weekend's top stories co...</td>\n",
       "      <td>0.01</td>\n",
       "    </tr>\n",
       "    <tr>\n",
       "      <th>1</th>\n",
       "      <td>06/01/2024</td>\n",
       "      <td>What That Famous Investing Quote About Bulls, ...</td>\n",
       "      <td>Motley Fool co-founder David Gardner responds ...</td>\n",
       "      <td>-0.42</td>\n",
       "    </tr>\n",
       "    <tr>\n",
       "      <th>2</th>\n",
       "      <td>07/01/2024</td>\n",
       "      <td>Apple's Busy Week: Tech Standoff, Legal Battle...</td>\n",
       "      <td>It was an eventful week for Apple Inc. AAPL, w...</td>\n",
       "      <td>0.02</td>\n",
       "    </tr>\n",
       "    <tr>\n",
       "      <th>3</th>\n",
       "      <td>07/01/2024</td>\n",
       "      <td>Stocks Decline And Fed Rate Cuts Imperiled To ...</td>\n",
       "      <td>After stellar gains of 107% in 2023, the Magni...</td>\n",
       "      <td>-0.43</td>\n",
       "    </tr>\n",
       "    <tr>\n",
       "      <th>4</th>\n",
       "      <td>07/01/2024</td>\n",
       "      <td>The Last Time Apple Spent This Much Money, It ...</td>\n",
       "      <td>Spending on research and development has nearl...</td>\n",
       "      <td>0.37</td>\n",
       "    </tr>\n",
       "  </tbody>\n",
       "</table>\n",
       "</div>"
      ],
      "text/plain": [
       "         date                                              title  \\\n",
       "0  06/01/2024  Barron's Weekend Stock Picks: Abercrombie & Fi...   \n",
       "1  06/01/2024  What That Famous Investing Quote About Bulls, ...   \n",
       "2  07/01/2024  Apple's Busy Week: Tech Standoff, Legal Battle...   \n",
       "3  07/01/2024  Stocks Decline And Fed Rate Cuts Imperiled To ...   \n",
       "4  07/01/2024  The Last Time Apple Spent This Much Money, It ...   \n",
       "\n",
       "                                             content sentiment_score  \n",
       "0  Benzinga reviews this weekend's top stories co...            0.01  \n",
       "1  Motley Fool co-founder David Gardner responds ...           -0.42  \n",
       "2  It was an eventful week for Apple Inc. AAPL, w...            0.02  \n",
       "3  After stellar gains of 107% in 2023, the Magni...           -0.43  \n",
       "4  Spending on research and development has nearl...            0.37  "
      ]
     },
     "execution_count": 4,
     "metadata": {},
     "output_type": "execute_result"
    }
   ],
   "source": [
    "# Cell 4: Initialize the Annotator and Annotate the DataFrame\n",
    "# We'll annotate based on the 'title' column, as in the RoBERTa_base.ipynb examples (which used 'title' for sentiment)\n",
    "# You can change to 'content' if preferred by updating text_column='content'\n",
    "annotator = SentimentAnnotator()\n",
    "annotated_df = annotator.annotate_dataframe(df, text_column='title', output_column='sentiment_score')\n",
    "# Display the results (first few rows)\n",
    "annotated_df.head()\n"
   ]
  },
  {
   "cell_type": "code",
   "execution_count": 5,
   "id": "360c6547-f88e-4ccd-be30-477e8afc0d1c",
   "metadata": {},
   "outputs": [
    {
     "name": "stdout",
     "output_type": "stream",
     "text": [
      "<class 'pandas.core.frame.DataFrame'>\n",
      "RangeIndex: 6977 entries, 0 to 6976\n",
      "Data columns (total 4 columns):\n",
      " #   Column           Non-Null Count  Dtype \n",
      "---  ------           --------------  ----- \n",
      " 0   date             6977 non-null   object\n",
      " 1   title            6977 non-null   object\n",
      " 2   content          6977 non-null   object\n",
      " 3   sentiment_score  6977 non-null   object\n",
      "dtypes: object(4)\n",
      "memory usage: 218.2+ KB\n"
     ]
    }
   ],
   "source": [
    "# Cell 5: Optional - Handle Missing Values or Duplicates\n",
    "# Drop rows with missing values (if any)\n",
    "annotated_df = annotated_df.dropna()\n",
    "# Remove duplicates (if any)\n",
    "annotated_df = annotated_df.drop_duplicates()\n",
    "# Display info about the annotated DataFrame\n",
    "annotated_df.info()\n"
   ]
  },
  {
   "cell_type": "code",
   "execution_count": 6,
   "id": "6966fd66-8f81-43dc-91a7-6e871fb3b5f5",
   "metadata": {},
   "outputs": [
    {
     "name": "stdout",
     "output_type": "stream",
     "text": [
      "Annotated data saved to annotated_sp500_news_2024_AAPL.csv\n"
     ]
    }
   ],
   "source": [
    "# Cell 6: Save the Annotated Data to a New CSV File\n",
    "output_filename = 'annotated_sp500_news_2024_AAPL.csv'\n",
    "annotated_df.to_csv(output_filename, index=False)\n",
    "print(f\"Annotated data saved to {output_filename}\")\n"
   ]
  },
  {
   "cell_type": "code",
   "execution_count": null,
   "id": "e834e935-1bcc-42d5-b1f0-95de2ed94071",
   "metadata": {},
   "outputs": [],
   "source": []
  }
 ],
 "metadata": {
  "kernelspec": {
   "display_name": "Python 3 (ipykernel)",
   "language": "python",
   "name": "python3"
  },
  "language_info": {
   "codemirror_mode": {
    "name": "ipython",
    "version": 3
   },
   "file_extension": ".py",
   "mimetype": "text/x-python",
   "name": "python",
   "nbconvert_exporter": "python",
   "pygments_lexer": "ipython3",
   "version": "3.9.18"
  }
 },
 "nbformat": 4,
 "nbformat_minor": 5
}
